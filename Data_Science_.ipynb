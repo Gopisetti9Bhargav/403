{
  "cells": [
    {
      "cell_type": "markdown",
      "metadata": {
        "id": "view-in-github",
        "colab_type": "text"
      },
      "source": [
        "<a href=\"https://colab.research.google.com/github/Gopisetti9Bhargav/403/blob/main/Data_Science_.ipynb\" target=\"_parent\"><img src=\"https://colab.research.google.com/assets/colab-badge.svg\" alt=\"Open In Colab\"/></a>"
      ]
    },
    {
      "cell_type": "markdown",
      "metadata": {
        "id": "y1V4zXUO-pEA"
      },
      "source": [
        "Day 1 :03-07-2025"
      ]
    },
    {
      "cell_type": "code",
      "execution_count": null,
      "metadata": {
        "colab": {
          "base_uri": "https://localhost:8080/"
        },
        "id": "o0F8kPXR-cVa",
        "outputId": "293af0db-0fa7-424b-92e7-fb9d5fc7b4f6"
      },
      "outputs": [
        {
          "name": "stdout",
          "output_type": "stream",
          "text": [
            "Hello Bhargav\n",
            "vagrahB olleH\n",
            "HloBagv\n",
            "el hra\n",
            "Bhargav\n",
            "vagrahB \n",
            "vgaBol\n"
          ]
        }
      ],
      "source": [
        "#Defauklt Indexing\n",
        "a=\"Hello Bhargav\"\n",
        "print(a)\n",
        "print(a[::-1]) #reverse string\n",
        "print(a[::2]) #even string\n",
        "print(a[1::2]) #odd string\n",
        "print(a[6:13])\n",
        "print(a[-1:-9:-1])\n",
        "print(a[-1:-13:-2])"
      ]
    },
    {
      "cell_type": "code",
      "execution_count": null,
      "metadata": {
        "id": "yxmjF_bTCOSO"
      },
      "outputs": [],
      "source": [
        "# String Methods\n",
        "# print(dir(a))\n",
        "# print(dir(1))\n",
        "a=\"Hello Hyderabad\"\n",
        "print(a.capitalize()) #1st letter capital\n",
        "print(a.upper()) #all upper\n",
        "print(a.lower()) #all lower\n",
        "print(a.title()) #1st capital all strings\n",
        "print(a.replace('Hyderabad','Vijayawada')) #replace string\n",
        "print(a.strip())\n",
        "print(a.lstrip()) #prints l to r\n",
        "print(a.rstrip()) #prints r to l\n",
        "print(a.find('H')) #finds index value\n",
        "print(a.index(\"a\")) #find index\n",
        "print(a.find('j')) #if letter is not there it gives -1 in find method\n",
        "# print(a.index('w')) #if letter is not there it gives value error in index method"
      ]
    },
    {
      "cell_type": "code",
      "execution_count": null,
      "metadata": {
        "colab": {
          "base_uri": "https://localhost:8080/"
        },
        "id": "rodpBpiOFLMT",
        "outputId": "9db0210c-de85-425d-97aa-17056cdb4c7e"
      },
      "outputs": [
        {
          "name": "stdout",
          "output_type": "stream",
          "text": [
            "vIJaWadA\n",
            "00000VijAwADa\n"
          ]
        }
      ],
      "source": [
        "b=\"VijAwADa\"\n",
        "print(b.swapcase()) #reverse upper to lower vise versa\n",
        "print(b.zfill(13)) #create string of derived length"
      ]
    },
    {
      "cell_type": "code",
      "execution_count": null,
      "metadata": {
        "colab": {
          "base_uri": "https://localhost:8080/"
        },
        "id": "w_YCqEpKKjHx",
        "outputId": "3f091e50-09d2-4fdb-8610-4811ff0542f1"
      },
      "outputs": [
        {
          "name": "stdout",
          "output_type": "stream",
          "text": [
            "My name is Bhargav and I am 10 years old\n",
            "My age is 21\n",
            "Enter Food ItemIdly\n",
            "Enter Price30\n",
            "Enter quantity2\n",
            "Your Idly for 2 is 30 and total is 60\n"
          ]
        }
      ],
      "source": [
        "# String Formating\n",
        "age=10\n",
        "inp=\"My name is Bhargav and I am {} years old\"\n",
        "print(inp.format(age))\n",
        "# Method 2\n",
        "age=21\n",
        "inp=\"My age is {}\".format(age)\n",
        "print(inp)\n",
        "# Method 3\n",
        "item=input(\"Enter Food Item\")\n",
        "price=int(input(\"Enter Price\"))\n",
        "qua=int(input(\"Enter quantity\"))\n",
        "print(f\"Your {item} for {qua} is {price} and total is {price*qua}\")"
      ]
    },
    {
      "cell_type": "code",
      "execution_count": null,
      "metadata": {
        "colab": {
          "base_uri": "https://localhost:8080/"
        },
        "id": "rcj7IelCNIqV",
        "outputId": "9fd05838-5f8f-4bef-d317-b59e3f291c7d"
      },
      "outputs": [
        {
          "name": "stdout",
          "output_type": "stream",
          "text": [
            "Hello \"Bhargav\" Naidu\n",
            "Hello 'Bhargav' Naidu\n"
          ]
        }
      ],
      "source": [
        "# Escape Characters\n",
        "a=\"Hello \\\"Bhargav\\\" Naidu\" #Used to use illegal orguments\n",
        "print(a)\n",
        "b=\"Hello 'Bhargav' Naidu\"\n",
        "print(b)"
      ]
    },
    {
      "cell_type": "markdown",
      "metadata": {
        "id": "VbZOcmwk4TDd"
      },
      "source": [
        "**08-07-2025**"
      ]
    },
    {
      "cell_type": "code",
      "execution_count": null,
      "metadata": {
        "colab": {
          "base_uri": "https://localhost:8080/"
        },
        "id": "y0mICFFj4QVI",
        "outputId": "a7f082b1-bc36-4168-dd5f-b812557a17b4"
      },
      "outputs": [
        {
          "name": "stdout",
          "output_type": "stream",
          "text": [
            "a is greater than 10\n",
            "a is greater than 20\n",
            "a is greater than 30\n",
            "a is less than 40\n"
          ]
        }
      ],
      "source": [
        "# Nested Conditions\n",
        "# Used to check multiple conditions\n",
        "a=35\n",
        "if a>10:\n",
        "  print(\"a is greater than 10\")\n",
        "  if a>20:\n",
        "    print(\"a is greater than 20\")\n",
        "  else:\n",
        "    print(\"a is less than 20\")\n",
        "  if a>30:\n",
        "    print(\"a is greater than 30\")\n",
        "  else:\n",
        "    print(\"a is less than 30\")\n",
        "  if a>40:\n",
        "    print(\"a is greater than 40\")\n",
        "  else:\n",
        "    print(\"a is less than 40\")\n",
        "else:\n",
        "  print(\"a is less than \\\"10\\\"\")\n"
      ]
    },
    {
      "cell_type": "code",
      "execution_count": null,
      "metadata": {
        "colab": {
          "base_uri": "https://localhost:8080/"
        },
        "id": "tKtN0wjZOiUG",
        "outputId": "df5ec495-d180-4b18-a9ae-683b8dde92fd"
      },
      "outputs": [
        {
          "name": "stdout",
          "output_type": "stream",
          "text": [
            "Enter your age:17\n",
            "Not Eligible\n"
          ]
        }
      ],
      "source": [
        "# Terinary operators\n",
        "# Used to check 2 conditions in simple form either true or false in a single line we use terinary operator\n",
        "age=int(input(\"Enter your age:\"))\n",
        "check= \"Eligible\" if age>=18 else \"Not Eligible\"\n",
        "print(check)\n",
        "# syntax: \"True\" ,<space> condition <space> else <space> \"False\""
      ]
    },
    {
      "cell_type": "code",
      "execution_count": null,
      "metadata": {
        "id": "_doqVKaZ9H2b"
      },
      "outputs": [],
      "source": [
        "# PASS\n",
        "# null place holder\n",
        "# used when code is incomplete and not to raise errors\n",
        "a=100\n",
        "if a>10:\n",
        "  pass"
      ]
    },
    {
      "cell_type": "markdown",
      "metadata": {
        "id": "K4yE6Fim35sx"
      },
      "source": [
        "11-07-2025"
      ]
    },
    {
      "cell_type": "code",
      "execution_count": null,
      "metadata": {
        "id": "ZgFHujhb-OsO"
      },
      "outputs": [],
      "source": [
        "# Collection --\n",
        "# 1.Homogenoud Data --(Single Data Type)\n",
        "# 2.Hetrogenous Data --(Multiple Data type)\n",
        "# Collections is also know as iterables (List, Tuple, Dictionary, Set)"
      ]
    },
    {
      "cell_type": "code",
      "execution_count": null,
      "metadata": {
        "colab": {
          "base_uri": "https://localhost:8080/"
        },
        "id": "jD39jUMKR5bM",
        "outputId": "747d98ad-344e-42b3-9e06-3037cae7cff8"
      },
      "outputs": [
        {
          "name": "stdout",
          "output_type": "stream",
          "text": [
            "<class 'list'>\n",
            "['apple', 'kiwi', 'pineapple', 'banana', 'apple', 'watermelon', 'apple', 'orange']\n",
            "8\n",
            "['pineapple', 'banana', 'apple']\n"
          ]
        }
      ],
      "source": [
        "# List\n",
        "# [Ordered , Mutable & allows duplicate data ]\n",
        "l1=['apple','kiwi','pineapple','banana','apple','watermelon','apple','orange']\n",
        "print(type(l1))\n",
        "print(l1)\n",
        "print(len(l1))\n",
        "print(l1[2:5])"
      ]
    },
    {
      "cell_type": "code",
      "execution_count": null,
      "metadata": {
        "colab": {
          "base_uri": "https://localhost:8080/"
        },
        "id": "zdU6zzXxTMZJ",
        "outputId": "88b20f68-2552-4785-c5a5-bc71f82cb638"
      },
      "outputs": [
        {
          "name": "stdout",
          "output_type": "stream",
          "text": [
            "['apple', 'pineapple', 'apple', 'apple']\n",
            "['pineapple', 'apple', 'apple']\n"
          ]
        }
      ],
      "source": [
        "print(l1[0:8:2]) #even index[star:end:step]\n",
        "print(l1[2:len(l1):2])"
      ]
    },
    {
      "cell_type": "markdown",
      "metadata": {
        "id": "KnGHz2ronth8"
      },
      "source": [
        "**14-07-2025**"
      ]
    },
    {
      "cell_type": "code",
      "execution_count": null,
      "metadata": {
        "colab": {
          "base_uri": "https://localhost:8080/"
        },
        "id": "Y3jMi0OUUwxY",
        "outputId": "4efba4b2-b41f-4224-8888-2d894c38d12d"
      },
      "outputs": [
        {
          "name": "stdout",
          "output_type": "stream",
          "text": [
            "['__add__', '__class__', '__contains__', '__delattr__', '__dir__', '__doc__', '__eq__', '__format__', '__ge__', '__getattribute__', '__getitem__', '__getnewargs__', '__getstate__', '__gt__', '__hash__', '__init__', '__init_subclass__', '__iter__', '__le__', '__len__', '__lt__', '__mod__', '__mul__', '__ne__', '__new__', '__reduce__', '__reduce_ex__', '__repr__', '__rmod__', '__rmul__', '__setattr__', '__sizeof__', '__str__', '__subclasshook__', 'capitalize', 'casefold', 'center', 'count', 'encode', 'endswith', 'expandtabs', 'find', 'format', 'format_map', 'index', 'isalnum', 'isalpha', 'isascii', 'isdecimal', 'isdigit', 'isidentifier', 'islower', 'isnumeric', 'isprintable', 'isspace', 'istitle', 'isupper', 'join', 'ljust', 'lower', 'lstrip', 'maketrans', 'partition', 'removeprefix', 'removesuffix', 'replace', 'rfind', 'rindex', 'rjust', 'rpartition', 'rsplit', 'rstrip', 'split', 'splitlines', 'startswith', 'strip', 'swapcase', 'title', 'translate', 'upper', 'zfill']\n"
          ]
        }
      ],
      "source": [
        "a=\"Hello World!\"\n",
        "print(dir(a)) #It checks what action we perform on a string"
      ]
    },
    {
      "cell_type": "code",
      "execution_count": null,
      "metadata": {
        "colab": {
          "base_uri": "https://localhost:8080/"
        },
        "id": "1QNQ8yuUoazS",
        "outputId": "74cd03e1-eff6-4503-e90f-6a86a38ba64b"
      },
      "outputs": [
        {
          "name": "stdout",
          "output_type": "stream",
          "text": [
            "Universe World!\n"
          ]
        }
      ],
      "source": [
        "print(a.replace(\"Hello\",\"Universe\")) #Replace the values"
      ]
    },
    {
      "cell_type": "code",
      "execution_count": null,
      "metadata": {
        "colab": {
          "base_uri": "https://localhost:8080/"
        },
        "id": "fzsiDlOoox-B",
        "outputId": "722f959b-5878-4f89-a40a-60e8c0631050"
      },
      "outputs": [
        {
          "name": "stdout",
          "output_type": "stream",
          "text": [
            "0000Hello World!\n"
          ]
        }
      ],
      "source": [
        "print(a.zfill(16)) #fills the value for desired valus"
      ]
    },
    {
      "cell_type": "code",
      "execution_count": null,
      "metadata": {
        "id": "E47NgpUAo-Ae"
      },
      "outputs": [],
      "source": [
        "# List allows Duplicate data\n"
      ]
    },
    {
      "cell_type": "code",
      "execution_count": null,
      "metadata": {
        "colab": {
          "base_uri": "https://localhost:8080/"
        },
        "id": "jfPGjKCXpqsS",
        "outputId": "ff60669a-d647-444d-c005-6117b79e0943"
      },
      "outputs": [
        {
          "name": "stdout",
          "output_type": "stream",
          "text": [
            "['apple', 'orange']\n"
          ]
        }
      ],
      "source": [
        "l11=[\"apple\",\"banana\",\"orange\",\"grapes\"]\n",
        "print(l11[::2])"
      ]
    },
    {
      "cell_type": "code",
      "execution_count": null,
      "metadata": {
        "colab": {
          "base_uri": "https://localhost:8080/"
        },
        "id": "K75ap8CnrPi0",
        "outputId": "a5ebecb2-176f-48ad-bf1f-3901441c2ddd"
      },
      "outputs": [
        {
          "name": "stdout",
          "output_type": "stream",
          "text": [
            "['grapes', 'orange', 'banana', 'apple']\n"
          ]
        }
      ],
      "source": [
        "print(l11[-1::-1])"
      ]
    },
    {
      "cell_type": "code",
      "execution_count": null,
      "metadata": {
        "id": "cLYKLy-mrozo"
      },
      "outputs": [],
      "source": [
        "# List has 3 properties\n",
        "# 1.Replace or swap the elements\n",
        "# 2.Add the new items to existing list\n",
        "# 3.Remove the items from the list"
      ]
    },
    {
      "cell_type": "code",
      "execution_count": null,
      "metadata": {
        "colab": {
          "base_uri": "https://localhost:8080/"
        },
        "id": "8nOeuicYsT8d",
        "outputId": "249a0eac-67f8-49a0-f732-1f8d507616b0"
      },
      "outputs": [
        {
          "name": "stdout",
          "output_type": "stream",
          "text": [
            "['Python', 'Java', 'Js', 'C++', 'c']\n",
            "['Python', 'Java', 'Java Script', 'C++', 'c']\n"
          ]
        }
      ],
      "source": [
        "l3=['Python','Java','Js','C++','c']\n",
        "print(l3)\n",
        "l3[2]=\"Java Script\" #In Data Structure there is no replace methos\n",
        "print(l3)\n"
      ]
    },
    {
      "cell_type": "code",
      "execution_count": null,
      "metadata": {
        "colab": {
          "base_uri": "https://localhost:8080/"
        },
        "id": "I5HysAemsk7o",
        "outputId": "7f9efd6a-2e63-433e-a837-94a51c447279"
      },
      "outputs": [
        {
          "name": "stdout",
          "output_type": "stream",
          "text": [
            "['Sql', 'Mysql', 'Nosql', 'Java Script', 'C++', 'c']\n"
          ]
        }
      ],
      "source": [
        "l3[0:2]=\"Sql\",\"Mysql\",\"Nosql\"\n",
        "print(l3)"
      ]
    },
    {
      "cell_type": "code",
      "execution_count": null,
      "metadata": {
        "colab": {
          "base_uri": "https://localhost:8080/"
        },
        "id": "LAi-1WSRtCaA",
        "outputId": "8fb25c9d-e2da-471c-f5e9-e72942651bef"
      },
      "outputs": [
        {
          "name": "stdout",
          "output_type": "stream",
          "text": [
            "['Sql', 'Mysql', 'Nosql', 'Java Script', 'C++', 'c']\n"
          ]
        }
      ],
      "source": [
        "# Add items to existing list\n",
        "l4=['Sql', 'Mysql', 'Nosql', 'Java Script', 'C++', 'c']\n",
        "print(l4)"
      ]
    },
    {
      "cell_type": "code",
      "execution_count": null,
      "metadata": {
        "id": "w1uxMwfAumEH"
      },
      "outputs": [],
      "source": [
        "l4.append(\"Python\") #append adds only one item\n",
        "l4.insert(3,\"Java\")"
      ]
    },
    {
      "cell_type": "code",
      "execution_count": null,
      "metadata": {
        "colab": {
          "base_uri": "https://localhost:8080/"
        },
        "id": "V4kYZfMkuqbc",
        "outputId": "86b94f65-4284-4533-deed-a59e5266801c"
      },
      "outputs": [
        {
          "name": "stdout",
          "output_type": "stream",
          "text": [
            "['Sql', 'Mysql', 'Nosql', 'Java', 'Java Script', 'C++', 'c', 'Python', 'Python', '.net', 'css', 'html']\n"
          ]
        }
      ],
      "source": [
        "print(l4)"
      ]
    },
    {
      "cell_type": "code",
      "execution_count": null,
      "metadata": {
        "colab": {
          "base_uri": "https://localhost:8080/"
        },
        "id": "4FalLqbJu1C6",
        "outputId": "be93fd11-7133-4e82-ca0a-42e1b6b99507"
      },
      "outputs": [
        {
          "name": "stdout",
          "output_type": "stream",
          "text": [
            "['Sql', 'Mysql', 'Nosql', 'Java', 'Java Script', 'C++', 'c', 'Python', 'Python', '.net', 'css', 'html', '.net', 'css', 'html', '.net', 'css', 'html']\n"
          ]
        }
      ],
      "source": [
        "# Extend() used to add multiple elements\n",
        "l5=[\".net\",\"css\",\"html\"]\n",
        "l4.extend(l5)\n",
        "print(l4)"
      ]
    },
    {
      "cell_type": "code",
      "execution_count": null,
      "metadata": {
        "colab": {
          "base_uri": "https://localhost:8080/"
        },
        "id": "2ljJbM7Cvkm7",
        "outputId": "9ff4967d-c81c-41e3-9b6a-4e18102b94d1"
      },
      "outputs": [
        {
          "name": "stdout",
          "output_type": "stream",
          "text": [
            "['.net', 'css', 'html']\n"
          ]
        }
      ],
      "source": [
        "print(l5)"
      ]
    },
    {
      "cell_type": "code",
      "execution_count": null,
      "metadata": {
        "id": "cZ8Q31zWv9fz"
      },
      "outputs": [],
      "source": [
        "l4.extend(l5)"
      ]
    },
    {
      "cell_type": "code",
      "execution_count": null,
      "metadata": {
        "colab": {
          "base_uri": "https://localhost:8080/"
        },
        "id": "Nwl6W60gwRlf",
        "outputId": "84671136-ed08-413f-f747-6b38547d5ef2"
      },
      "outputs": [
        {
          "name": "stdout",
          "output_type": "stream",
          "text": [
            "[1, 2, 3, 4, 5, 6]\n"
          ]
        }
      ],
      "source": [
        "# pop() used to delete the elements in a list from the last\n",
        "l6=[1,2,3,4,5,6,7]\n",
        "l6.pop()\n",
        "print(l6)"
      ]
    },
    {
      "cell_type": "code",
      "execution_count": null,
      "metadata": {
        "colab": {
          "base_uri": "https://localhost:8080/"
        },
        "id": "RzYHUwG5wSvq",
        "outputId": "452aac8e-9063-492a-a3a2-4152d448cc00"
      },
      "outputs": [
        {
          "name": "stdout",
          "output_type": "stream",
          "text": [
            "[1, 3, 4, 5, 6]\n"
          ]
        }
      ],
      "source": [
        "# remove()\n",
        "l6.remove(2)\n",
        "print(l6)"
      ]
    },
    {
      "cell_type": "code",
      "execution_count": null,
      "metadata": {
        "colab": {
          "base_uri": "https://localhost:8080/"
        },
        "id": "vFK_p4Z-xLp1",
        "outputId": "ba706e7e-dcad-4fa0-9d00-ed9e2b7dbcdc"
      },
      "outputs": [
        {
          "name": "stdout",
          "output_type": "stream",
          "text": [
            "['Java']\n"
          ]
        }
      ],
      "source": [
        "# del [] using index\n",
        "ll=[\"Java\",\"Python\",\"Css\",\"Html\",1 ,2,3,4]\n",
        "del ll[1:]\n",
        "print(ll)"
      ]
    },
    {
      "cell_type": "code",
      "execution_count": null,
      "metadata": {
        "colab": {
          "base_uri": "https://localhost:8080/"
        },
        "id": "j-LLI0HWxf9o",
        "outputId": "f855a3d3-ec98-4656-a397-21deb3a02b5b"
      },
      "outputs": [
        {
          "name": "stdout",
          "output_type": "stream",
          "text": [
            "[]\n"
          ]
        }
      ],
      "source": [
        "# clear()\n",
        "ll.clear()\n",
        "print(ll)"
      ]
    },
    {
      "cell_type": "code",
      "execution_count": null,
      "metadata": {
        "colab": {
          "base_uri": "https://localhost:8080/"
        },
        "id": "oh5A4obVy-LL",
        "outputId": "16152c46-b149-4076-fb3f-09005c559e9d"
      },
      "outputs": [
        {
          "name": "stdout",
          "output_type": "stream",
          "text": [
            "['Apple', 'Banana', 'Grapes', 'Lemon', 'apple', 'banana', 'orange']\n"
          ]
        }
      ],
      "source": [
        "# sorting a list\n",
        "a=[\"apple\",\"Apple\",'Banana','banana','Grapes','orange','Lemon']\n",
        "a.sort() #In asc order A to a\n",
        "print(a)"
      ]
    },
    {
      "cell_type": "code",
      "execution_count": null,
      "metadata": {
        "colab": {
          "base_uri": "https://localhost:8080/"
        },
        "id": "oFXaRWtvzdm4",
        "outputId": "d88090da-88f9-487a-b915-cfb71b86fca7"
      },
      "outputs": [
        {
          "name": "stdout",
          "output_type": "stream",
          "text": [
            "['orange', 'banana', 'apple', 'Lemon', 'Grapes', 'Banana', 'Apple']\n"
          ]
        }
      ],
      "source": [
        "# In desc order a to A\n",
        "a.sort(reverse=True)\n",
        "print(a)"
      ]
    },
    {
      "cell_type": "code",
      "execution_count": null,
      "metadata": {
        "id": "uyH93aCa1F3H"
      },
      "outputs": [],
      "source": [
        "# Tuple\n",
        "# tuple()\n",
        "# tuple is ordered, immutable, and allows duplicates"
      ]
    },
    {
      "cell_type": "code",
      "execution_count": null,
      "metadata": {
        "colab": {
          "base_uri": "https://localhost:8080/"
        },
        "id": "cj6El5hMz7Vg",
        "outputId": "ad0b1b71-86ac-44f4-9fe7-81c1a4f08676"
      },
      "outputs": [
        {
          "name": "stdout",
          "output_type": "stream",
          "text": [
            "11\n",
            "<class 'tuple'>\n",
            "(1, 2, 3, 4, 5, 6, 1, 2, 3, 4, 5)\n",
            "(1, 3, 5, 1, 3, 5)\n"
          ]
        }
      ],
      "source": [
        "t1=(1,2,3,4,5,6,1,2,3,4,5)\n",
        "print(len(t1))\n",
        "print(type(t1))\n",
        "print(t1)\n",
        "print(t1[::2])"
      ]
    },
    {
      "cell_type": "code",
      "execution_count": null,
      "metadata": {
        "id": "Yw5WUNJ81ac-"
      },
      "outputs": [],
      "source": [
        "# Immutable means we cannot perform any crud operations"
      ]
    },
    {
      "cell_type": "markdown",
      "metadata": {
        "id": "foRXO0mTxNM8"
      },
      "source": [
        "**15-07-2025**"
      ]
    },
    {
      "cell_type": "code",
      "execution_count": null,
      "metadata": {
        "id": "DOXzymEPxMvC"
      },
      "outputs": [],
      "source": [
        "# set{}\n",
        "# Set is unordered, immutable"
      ]
    },
    {
      "cell_type": "code",
      "execution_count": null,
      "metadata": {
        "colab": {
          "base_uri": "https://localhost:8080/"
        },
        "id": "TmgVh5kqyQJb",
        "outputId": "0a81c276-2f0b-4e77-9bc3-0a86860395e3"
      },
      "outputs": [
        {
          "name": "stdout",
          "output_type": "stream",
          "text": [
            "{'grapes', 'banana', 'apple', 'mango'}\n",
            "<class 'set'>\n"
          ]
        }
      ],
      "source": [
        "s1={'apple','mango','banana','grapes'}\n",
        "print(s1)\n",
        "print(type(s1))"
      ]
    },
    {
      "cell_type": "code",
      "execution_count": null,
      "metadata": {
        "colab": {
          "base_uri": "https://localhost:8080/"
        },
        "id": "N5LsAopiyp-n",
        "outputId": "fe6cad36-2a9a-4876-e482-18a1330ccba0"
      },
      "outputs": [
        {
          "name": "stdout",
          "output_type": "stream",
          "text": [
            "{'banana', 'apple', 'orange', 'mango', 'pineapple'}\n"
          ]
        }
      ],
      "source": [
        "s2={'apple','mango','banana','pineapple','orange'}\n",
        "print(s2)"
      ]
    },
    {
      "cell_type": "code",
      "execution_count": null,
      "metadata": {
        "colab": {
          "base_uri": "https://localhost:8080/"
        },
        "id": "Hi68N_n5zKlH",
        "outputId": "47f12fba-8e90-4651-e3ea-af759aabf332"
      },
      "outputs": [
        {
          "name": "stdout",
          "output_type": "stream",
          "text": [
            "{'banana', 'apple', 'grapes', 'orange', 'mango', 'pineapple'}\n"
          ]
        }
      ],
      "source": [
        "# Adding menthods in set\n",
        "# add\n",
        "s2.add('grapes')\n",
        "print(s2)  #we only add single items using this method"
      ]
    },
    {
      "cell_type": "code",
      "execution_count": null,
      "metadata": {
        "colab": {
          "base_uri": "https://localhost:8080/"
        },
        "id": "Rh6f73k0zRjS",
        "outputId": "83cb143f-b288-4473-9e39-dbcaea5c6604"
      },
      "outputs": [
        {
          "name": "stdout",
          "output_type": "stream",
          "text": [
            "{1, 2, 3, 4, 5, 6, 'grapes', 'mango', 'banana', 'apple', 'orange', 'pineapple'}\n"
          ]
        }
      ],
      "source": [
        "# update()\n",
        "s3={1,2,3,4,5,6}\n",
        "s2.update(s3)\n",
        "print(s2)"
      ]
    },
    {
      "cell_type": "code",
      "execution_count": null,
      "metadata": {
        "colab": {
          "base_uri": "https://localhost:8080/"
        },
        "id": "FEZtp7I-z59g",
        "outputId": "0eca293f-69a3-452d-f58f-c702abb4fbeb"
      },
      "outputs": [
        {
          "name": "stdout",
          "output_type": "stream",
          "text": [
            "{2, 3, 4, 5, 6, 'grapes', 'mango', 'banana', 'apple', 'orange', 'pineapple'}\n"
          ]
        }
      ],
      "source": [
        "# pop()\n",
        "s2.pop()\n",
        "print(s2)"
      ]
    },
    {
      "cell_type": "code",
      "execution_count": null,
      "metadata": {
        "colab": {
          "base_uri": "https://localhost:8080/"
        },
        "id": "NntQCFGc0OSS",
        "outputId": "41ee0e02-e0d2-4278-81ef-58c290eac40c"
      },
      "outputs": [
        {
          "name": "stdout",
          "output_type": "stream",
          "text": [
            "{2, 3, 4, 5, 6, 'grapes', 'banana', 'apple', 'orange', 'pineapple'}\n"
          ]
        }
      ],
      "source": [
        "# remove() for elements\n",
        "s2.remove('mango')\n",
        "print(s2)"
      ]
    },
    {
      "cell_type": "code",
      "execution_count": null,
      "metadata": {
        "colab": {
          "base_uri": "https://localhost:8080/"
        },
        "id": "t5L1AVBK0Zx4",
        "outputId": "0cced353-b631-467d-96a8-778a6589e524"
      },
      "outputs": [
        {
          "name": "stdout",
          "output_type": "stream",
          "text": [
            "{2, 4, 5, 6, 'grapes', 'banana', 'apple', 'orange', 'pineapple'}\n"
          ]
        }
      ],
      "source": [
        "# # discard()\n",
        "s2.discard(3)\n",
        "print(s2)\n",
        "# In remove method if element is not exist it raise error,\n",
        "# where as in discard method it doesnt raise error"
      ]
    },
    {
      "cell_type": "code",
      "execution_count": null,
      "metadata": {
        "colab": {
          "base_uri": "https://localhost:8080/"
        },
        "id": "ysbFbPg70jzC",
        "outputId": "cecc4a4e-af33-41c5-8afb-388153ad9493"
      },
      "outputs": [
        {
          "name": "stdout",
          "output_type": "stream",
          "text": [
            "None\n"
          ]
        }
      ],
      "source": [
        "# clear()\n",
        "print(s2.clear())"
      ]
    },
    {
      "cell_type": "code",
      "execution_count": null,
      "metadata": {
        "collapsed": true,
        "id": "AgzkYmov1Fm5"
      },
      "outputs": [],
      "source": [
        "# sets are faster then list and tuple because set is unordered and immutable"
      ]
    },
    {
      "cell_type": "code",
      "execution_count": null,
      "metadata": {
        "colab": {
          "base_uri": "https://localhost:8080/"
        },
        "id": "dZZWJ7mc1WOR",
        "outputId": "63bc76d3-d051-46b4-df31-4f77b2393702"
      },
      "outputs": [
        {
          "name": "stdout",
          "output_type": "stream",
          "text": [
            "{'f', 'cd', 'e', 'a', 'd', 'b', 'g'}\n"
          ]
        }
      ],
      "source": [
        "s1={'a','b','c''d'}\n",
        "s2={'e','d','f','g'}\n",
        "print(s1.union(s2))"
      ]
    },
    {
      "cell_type": "code",
      "execution_count": null,
      "metadata": {
        "colab": {
          "base_uri": "https://localhost:8080/"
        },
        "id": "D0Wqe-515ASK",
        "outputId": "fedf8f6e-ec73-4fc2-85c6-89558e1d04e9"
      },
      "outputs": [
        {
          "name": "stdout",
          "output_type": "stream",
          "text": [
            "set()\n"
          ]
        }
      ],
      "source": [
        "print(s1.intersection(s2))"
      ]
    },
    {
      "cell_type": "code",
      "execution_count": null,
      "metadata": {
        "id": "dBHK2pk_5Fbw"
      },
      "outputs": [],
      "source": [
        "# Dictionary{}\n",
        "# dictionary is unordered, mutable and wont allows duplicate data\n",
        "# {key:value}"
      ]
    },
    {
      "cell_type": "code",
      "execution_count": null,
      "metadata": {
        "colab": {
          "base_uri": "https://localhost:8080/"
        },
        "id": "aKkqUn6y5jfH",
        "outputId": "036f5a60-e6be-4c51-d904-fc142386b702"
      },
      "outputs": [
        {
          "name": "stdout",
          "output_type": "stream",
          "text": [
            "{'name': 'MET', 'course': 'Python', 'duration': '4 months', 'topics': ['numpy', 'pandas', 'seaborn']}\n",
            "4\n"
          ]
        }
      ],
      "source": [
        "d1={'name':'MET',\n",
        "    'course':'Ds/Da/Gen',\n",
        "    'duration':'4 months',\n",
        "    'course':'Python',\n",
        "    'topics':['numpy','pandas','seaborn']}\n",
        "print(d1)\n",
        "print(len(d1))"
      ]
    },
    {
      "cell_type": "code",
      "execution_count": null,
      "metadata": {
        "colab": {
          "base_uri": "https://localhost:8080/"
        },
        "id": "JuPT3e0c6lOc",
        "outputId": "1c8f80e8-9df3-4a9c-a23c-6e508ec3fa7b"
      },
      "outputs": [
        {
          "name": "stdout",
          "output_type": "stream",
          "text": [
            "{'name': 'MET', 'course': 'Python', 'duration': '4 months', 'topics': ['numpy', 'pandas', 'seaborn'], 'address': 'Hyderabad'}\n"
          ]
        }
      ],
      "source": [
        "# Dictionary is mutable\n",
        "d1['address']='Hyderabad'\n",
        "print(d1)"
      ]
    },
    {
      "cell_type": "code",
      "execution_count": null,
      "metadata": {
        "colab": {
          "base_uri": "https://localhost:8080/"
        },
        "id": "kTrpBjUh7fy9",
        "outputId": "595fc53f-fef9-4f1c-8ad7-20cbe288f7c1"
      },
      "outputs": [
        {
          "name": "stdout",
          "output_type": "stream",
          "text": [
            "{'name': 'MET', 'course': 'python', 'duration': '4 months', 'topics': ['numpy', 'pandas', 'seaborn'], 'address': 'Hyderabad'}\n"
          ]
        }
      ],
      "source": [
        "d1['course']='python'\n",
        "print(d1)"
      ]
    },
    {
      "cell_type": "code",
      "execution_count": null,
      "metadata": {
        "colab": {
          "base_uri": "https://localhost:8080/"
        },
        "id": "lENrf-rG7mUe",
        "outputId": "73ef4a5a-6db2-4c5d-d982-7d2e33929b62"
      },
      "outputs": [
        {
          "name": "stdout",
          "output_type": "stream",
          "text": [
            "{'name': 'MET', 'course': 'python', 'duration': '4 months', 'topics': ['numpy', 'pandas', 'seaborn'], 'address': 'Hyderabad', 'other course': ['js', 'rs', 'html']}\n"
          ]
        }
      ],
      "source": [
        "d2={\n",
        "    'other course':['js','rs','html']\n",
        "}\n",
        "d1.update(d2)\n",
        "print(d1)"
      ]
    },
    {
      "cell_type": "code",
      "execution_count": null,
      "metadata": {
        "colab": {
          "base_uri": "https://localhost:8080/"
        },
        "id": "nsEOAzkw7y7r",
        "outputId": "cdf9f604-05cb-4963-eea9-0fe35894a240"
      },
      "outputs": [
        {
          "name": "stdout",
          "output_type": "stream",
          "text": [
            "{'name': 'MET', 'course': 'python', 'duration': '4 months', 'topics': ['ML', 'numpy', 'ML'], 'address': 'Hyderabad', 'other course': ['js', 'rs', 'html']}\n"
          ]
        }
      ],
      "source": [
        "d1['topics'][-1]='ML'\n",
        "d1['topics'][-2]='numpy'\n",
        "print(d1)"
      ]
    },
    {
      "cell_type": "code",
      "execution_count": null,
      "metadata": {
        "colab": {
          "base_uri": "https://localhost:8080/"
        },
        "id": "qgVksyv970Cs",
        "outputId": "4fdc5f25-d5a2-439d-cce2-5865ae8c311f"
      },
      "outputs": [
        {
          "name": "stdout",
          "output_type": "stream",
          "text": [
            "{'name': 'MET', 'course': 'python', 'duration': '4 months', 'topics': ['ML', 'numpy', 'ML'], 'address': 'Hyderabad'}\n"
          ]
        }
      ],
      "source": [
        "# pop() remove items\n",
        "d1.pop('other course')\n",
        "print(d1)"
      ]
    },
    {
      "cell_type": "code",
      "execution_count": null,
      "metadata": {
        "colab": {
          "base_uri": "https://localhost:8080/"
        },
        "id": "DFECOxDS_gnp",
        "outputId": "74a36ca4-951e-4f86-d0c9-27f090b60a6c"
      },
      "outputs": [
        {
          "name": "stdout",
          "output_type": "stream",
          "text": [
            "{'name': 'MET', 'course': 'python', 'duration': '4 months', 'topics': ['ML', 'numpy', 'ML']}\n"
          ]
        }
      ],
      "source": [
        "# popitem():default removes last item and return the removed item\n",
        "d1.popitem()\n",
        "print(d1)"
      ]
    },
    {
      "cell_type": "markdown",
      "metadata": {
        "id": "GsoqQ7Sp7gQs"
      },
      "source": [
        "**16-07-2025**"
      ]
    },
    {
      "cell_type": "code",
      "execution_count": null,
      "metadata": {
        "id": "GErKHwIa7j_r"
      },
      "outputs": [],
      "source": [
        "# function\n",
        "# Functions are used to avoid duplicates codes (Loops also)\n",
        "# Function is a block of code which can be executed when you call it."
      ]
    },
    {
      "cell_type": "code",
      "execution_count": null,
      "metadata": {
        "colab": {
          "base_uri": "https://localhost:8080/"
        },
        "id": "Eu77Zm7P-Go_",
        "outputId": "4fa545b7-19e9-48b6-df57-dfb819e3ba9c"
      },
      "outputs": [
        {
          "name": "stdout",
          "output_type": "stream",
          "text": [
            "Hello world!\n"
          ]
        }
      ],
      "source": [
        "def f1():\n",
        "  print(\"Hello world!\")\n",
        "f1()"
      ]
    },
    {
      "cell_type": "code",
      "execution_count": null,
      "metadata": {
        "colab": {
          "base_uri": "https://localhost:8080/"
        },
        "id": "Y-BkK5j--T8f",
        "outputId": "92d7b831-c9f2-44c6-ca14-7bdff4cd34d7"
      },
      "outputs": [
        {
          "name": "stdout",
          "output_type": "stream",
          "text": [
            "Hello Medha\n"
          ]
        }
      ],
      "source": [
        "# Parameter\n",
        "# when we define a function we create a variable which is known as parameter\n",
        "def f2(name):\n",
        "  print('Hello',name)\n",
        "# Argument\n",
        "# when we call function we pass some values is known as arguments\n",
        "f2('Medha')\n",
        "# Expression means block of code to execute"
      ]
    },
    {
      "cell_type": "code",
      "execution_count": null,
      "metadata": {
        "colab": {
          "base_uri": "https://localhost:8080/"
        },
        "id": "83938djH_pPA",
        "outputId": "fc4c73f4-dfb2-4f14-a68a-0cb3a61cf87e"
      },
      "outputs": [
        {
          "name": "stdout",
          "output_type": "stream",
          "text": [
            "Hello check details Bhargav 21 M 9247275933\n"
          ]
        }
      ],
      "source": [
        "# we can pass n number of parameters and arguments\n",
        "def details(name,age,gender,contact):\n",
        "  print(\"Hello check details\",name,age,gender,contact)\n",
        "details(\"Bhargav\",'21','M','9247275933')\n",
        "# No of arguments=No of parameter"
      ]
    },
    {
      "cell_type": "code",
      "execution_count": null,
      "metadata": {
        "colab": {
          "base_uri": "https://localhost:8080/"
        },
        "id": "INa_mL3RBSC2",
        "outputId": "a44b3bd2-ea3a-4fd0-ce9b-1f244719ba21"
      },
      "outputs": [
        {
          "name": "stdout",
          "output_type": "stream",
          "text": [
            "Even\n"
          ]
        }
      ],
      "source": [
        "# create a function to check a number is even or add\n",
        "def check_num(num):\n",
        "  if num%2==0:\n",
        "    print(\"Even\")\n",
        "  else:\n",
        "    print(\"Odd\")\n",
        "check_num(256150178)"
      ]
    },
    {
      "cell_type": "code",
      "execution_count": null,
      "metadata": {
        "colab": {
          "base_uri": "https://localhost:8080/"
        },
        "id": "J50OWOJCCPYT",
        "outputId": "9455645d-b59f-4443-d182-5d615524c716"
      },
      "outputs": [
        {
          "name": "stdout",
          "output_type": "stream",
          "text": [
            "45\n"
          ]
        }
      ],
      "source": [
        "# create a function to sum of numbers in a list\n",
        "l=[1,2,3,4,5,6,7,8,9]\n",
        "sum=0\n",
        "for i in l:\n",
        "  sum+=i\n",
        "print(sum)"
      ]
    },
    {
      "cell_type": "code",
      "execution_count": null,
      "metadata": {
        "colab": {
          "base_uri": "https://localhost:8080/"
        },
        "id": "stFA8d6wC_uP",
        "outputId": "9169991c-e032-4751-8f1a-8d3dd08f3466"
      },
      "outputs": [
        {
          "name": "stdout",
          "output_type": "stream",
          "text": [
            "55\n"
          ]
        }
      ],
      "source": [
        "# create a function call total_of_num to print sum of numbers in the given list\n",
        "def total_of_num(l):\n",
        "  sum=0\n",
        "  for i in l:\n",
        "    sum+=i\n",
        "  print(sum)\n",
        "total_of_num([1,2,3,4,5,6,7,8,9,10])"
      ]
    },
    {
      "cell_type": "code",
      "execution_count": null,
      "metadata": {
        "colab": {
          "base_uri": "https://localhost:8080/"
        },
        "id": "L7XpzmdTDzrd",
        "outputId": "81d50d2e-1c4e-4f4a-fe56-10dcc118b243"
      },
      "outputs": [
        {
          "name": "stdout",
          "output_type": "stream",
          "text": [
            "15\n"
          ]
        }
      ],
      "source": [
        "total_of_num([1,2,3,4,5])"
      ]
    },
    {
      "cell_type": "code",
      "execution_count": null,
      "metadata": {
        "colab": {
          "base_uri": "https://localhost:8080/"
        },
        "id": "mtAFGeywEMFg",
        "outputId": "8e8e20a3-0865-4adf-c67c-9ffadf46a87a"
      },
      "outputs": [
        {
          "name": "stdout",
          "output_type": "stream",
          "text": [
            "{'name': 'Bhargav', 'age': 21, 'gender': 'M'}\n"
          ]
        }
      ],
      "source": [
        "# Dont know how many parameters i need to pass but function has to print all the information\n",
        "def details(**name):\n",
        "  print(name)\n",
        "details(name=\"Bhargav\",age=21,gender=\"M\")"
      ]
    },
    {
      "cell_type": "code",
      "execution_count": null,
      "metadata": {
        "colab": {
          "base_uri": "https://localhost:8080/"
        },
        "id": "bodzH6EeFDaH",
        "outputId": "dd561cc4-da5f-43ed-fe5c-1e9167ac8bd8"
      },
      "outputs": [
        {
          "name": "stdout",
          "output_type": "stream",
          "text": [
            "('Python', 'Java', 'Sql', 'Html')\n"
          ]
        }
      ],
      "source": [
        "def topics(*name):\n",
        "  print(name)\n",
        "topics(\"Python\",\"Java\",\"Sql\",\"Html\")"
      ]
    },
    {
      "cell_type": "code",
      "execution_count": null,
      "metadata": {
        "id": "753L_z2nFjiq"
      },
      "outputs": [],
      "source": [
        "# from ast import arguments\n",
        "# 1. ** ---> KWARGS --> Keyword arbitary arguments\n",
        "#         uses when we dont know how many parameters need to pass\n",
        "#         The defaukt data type is Dictionary\n",
        "# 2. * --> ARGS --> Arbitary arguments\n",
        "#         When we dont know the number of arguments need to pass\n",
        "#         The default data type Tuple"
      ]
    },
    {
      "cell_type": "code",
      "execution_count": null,
      "metadata": {
        "colab": {
          "base_uri": "https://localhost:8080/"
        },
        "id": "ifCLOQxwIOYi",
        "outputId": "000ed698-c839-4828-ba7b-3595f99733c0"
      },
      "outputs": [
        {
          "name": "stdout",
          "output_type": "stream",
          "text": [
            "{1, 2, 3, 4, 5, 6}\n"
          ]
        }
      ],
      "source": [
        "a=set([1,2,3,4,5,6])\n",
        "print(a)"
      ]
    },
    {
      "cell_type": "code",
      "execution_count": null,
      "metadata": {
        "colab": {
          "base_uri": "https://localhost:8080/"
        },
        "id": "vbgYrueYISb9",
        "outputId": "86374fb6-cca2-4c0e-d0b9-279c89c139aa"
      },
      "outputs": [
        {
          "name": "stdout",
          "output_type": "stream",
          "text": [
            "270\n"
          ]
        }
      ],
      "source": [
        "# Create a function to print sum of arguments\n",
        "def total_of_nums(*l):\n",
        "  sum=0\n",
        "  for i in l:\n",
        "    sum+=i\n",
        "  print(sum)\n",
        "total_of_nums(20,30,40,50,60,70)"
      ]
    },
    {
      "cell_type": "code",
      "execution_count": null,
      "metadata": {
        "colab": {
          "base_uri": "https://localhost:8080/"
        },
        "id": "kZfOZYtnJIHk",
        "outputId": "fe7e426a-0a02-4e13-8e1c-d15239179af7"
      },
      "outputs": [
        {
          "name": "stdout",
          "output_type": "stream",
          "text": [
            "Python is Programing language.\n"
          ]
        }
      ],
      "source": [
        "# create a function where it can concatenate the words and form a sentance\n",
        "def concat(**words):\n",
        "  result=\"\"\n",
        "  for i in words.values():\n",
        "    result=result+i\n",
        "  print(result)\n",
        "concat(a=\"Python \",b=\"is \",c=\"Programing language.\")"
      ]
    },
    {
      "cell_type": "code",
      "execution_count": null,
      "metadata": {
        "colab": {
          "base_uri": "https://localhost:8080/"
        },
        "id": "96_RSWe3KdPc",
        "outputId": "81c5dd7d-2e81-4bc5-bfda-b22aed6ce0c2"
      },
      "outputs": [
        {
          "name": "stdout",
          "output_type": "stream",
          "text": [
            "54\n"
          ]
        }
      ],
      "source": [
        "# return--> send back the values to the caller\n",
        "# note --> when we use the return keyword instead of print call function with rint statement\n",
        "def f1(a,b):\n",
        "  return a+b\n",
        "print(f1(10,44))"
      ]
    },
    {
      "cell_type": "markdown",
      "metadata": {
        "id": "SF4WJLGsFs8e"
      },
      "source": [
        "**17-07-2025**"
      ]
    },
    {
      "cell_type": "code",
      "execution_count": null,
      "metadata": {
        "colab": {
          "base_uri": "https://localhost:8080/"
        },
        "id": "h_NNZNENLJhf",
        "outputId": "0a972161-e341-4870-f41a-bb02b5787f5d"
      },
      "outputs": [
        {
          "name": "stdout",
          "output_type": "stream",
          "text": [
            "['apple', 'pineapple', 'orange', 'watermelon']\n"
          ]
        }
      ],
      "source": [
        "# List comprehension\n",
        "# LC offers smaller line of code where a new list can be created from the existing list.\n",
        "a=['apple','banana','pineapple','orange','mango','watermelon']\n",
        "# program to print 'e'and store in it\n",
        "new=[]\n",
        "for i in a:\n",
        "  if 'e' in i:\n",
        "    new.append(i)\n",
        "print(new)"
      ]
    },
    {
      "cell_type": "code",
      "execution_count": null,
      "metadata": {
        "colab": {
          "base_uri": "https://localhost:8080/"
        },
        "id": "1_YUBJAeHJTM",
        "outputId": "aa3a8d10-b565-4f1b-b9d9-34ac9b13c7eb"
      },
      "outputs": [
        {
          "name": "stdout",
          "output_type": "stream",
          "text": [
            "['apple', 'grapes', 'pineapple']\n"
          ]
        }
      ],
      "source": [
        "def check_fruit(a):\n",
        "  new=[]\n",
        "  for i in a:\n",
        "    if 'e' in i:\n",
        "      new.append(i)\n",
        "  return new\n",
        "  # call function\n",
        "a=['kiwi','apple','grapes','mango','pineapple']\n",
        "print(check_fruit(a))"
      ]
    },
    {
      "cell_type": "code",
      "execution_count": null,
      "metadata": {
        "colab": {
          "base_uri": "https://localhost:8080/"
        },
        "id": "mwQUFKloIhBV",
        "outputId": "1fad4b40-cd30-48bc-cd0f-866204cad1de"
      },
      "outputs": [
        {
          "name": "stdout",
          "output_type": "stream",
          "text": [
            "['apple', 'pineapple', 'orange', 'watermelon']\n"
          ]
        }
      ],
      "source": [
        "# syntax : [item for item in collection <space> apply condition]\n",
        "a=['apple','banana','pineapple','orange','mango','watermelon']\n",
        "new=[i for i in a if 'e' in i]\n",
        "print(new)"
      ]
    },
    {
      "cell_type": "code",
      "execution_count": null,
      "metadata": {
        "colab": {
          "base_uri": "https://localhost:8080/"
        },
        "id": "popx3EO1JhcN",
        "outputId": "9d2227a9-b41e-49f6-baf1-47a56ab9c938"
      },
      "outputs": [
        {
          "name": "stdout",
          "output_type": "stream",
          "text": [
            "[2, 4, 6, 8, 10, 12, 14, 16, 18, 20, 22, 24, 26, 28, 30, 32, 34, 36, 38, 40]\n"
          ]
        }
      ],
      "source": [
        "# write program to print a range of even numbers from 1 to 40 and store it in a list\n",
        "new=[]\n",
        "for i in range(1,41):\n",
        "  if i%2==0:\n",
        "    new.append(i)\n",
        "print(new)"
      ]
    },
    {
      "cell_type": "code",
      "execution_count": null,
      "metadata": {
        "colab": {
          "base_uri": "https://localhost:8080/"
        },
        "id": "At4-JaiQKbYC",
        "outputId": "b7411196-0a65-4f46-86bf-29c209d87724"
      },
      "outputs": [
        {
          "name": "stdout",
          "output_type": "stream",
          "text": [
            "[2, 4, 6, 8, 10, 12, 14, 16, 18, 20, 22, 24, 26, 28, 30, 32, 34, 36, 38, 40]\n"
          ]
        }
      ],
      "source": [
        "# create by using the LC\n",
        "new=[i for i in range(1,41) if i%2==0]\n",
        "print(new)"
      ]
    },
    {
      "cell_type": "code",
      "execution_count": null,
      "metadata": {
        "colab": {
          "base_uri": "https://localhost:8080/"
        },
        "id": "xAIQ37F3KoBL",
        "outputId": "947e5a69-cfd6-4dc0-d880-19c983fb41df"
      },
      "outputs": [
        {
          "name": "stdout",
          "output_type": "stream",
          "text": [
            "['APPLE', 'BANANA', 'PINEAPPLE', 'ORANGE', 'MANGO', 'WATERMELON']\n"
          ]
        }
      ],
      "source": [
        "# write a program to convert all the items in a list to uppercase and store it in a new list\n",
        "l=['apple','banana','pineapple','orange','mango','watermelon']\n",
        "n=[]\n",
        "for i in l:\n",
        "  n.append(i.upper())\n",
        "print(n)"
      ]
    },
    {
      "cell_type": "code",
      "execution_count": null,
      "metadata": {
        "colab": {
          "base_uri": "https://localhost:8080/"
        },
        "id": "KR_4wnaZLJ-K",
        "outputId": "9d0f474d-907a-4b49-f39b-a00b8099d9b7"
      },
      "outputs": [
        {
          "name": "stdout",
          "output_type": "stream",
          "text": [
            "['APPLE', 'BANANA', 'PINEAPPLE', 'ORANGE', 'MANGO', 'WATERMELON']\n"
          ]
        }
      ],
      "source": [
        "new=[i.upper() for i in l]\n",
        "print(new)"
      ]
    },
    {
      "cell_type": "code",
      "execution_count": null,
      "metadata": {
        "colab": {
          "base_uri": "https://localhost:8080/"
        },
        "id": "t4I5CKVBMVSq",
        "outputId": "7ed8fac3-7424-4552-b5e4-013b97fe33d3"
      },
      "outputs": [
        {
          "name": "stdout",
          "output_type": "stream",
          "text": [
            "[1.4142135623730951, 2.0, 3.0, 4.242640687119285, 5.0, 6.324555320336759, 6.0, 8.48528137423857, 9.0]\n"
          ]
        }
      ],
      "source": [
        "# write program to print sqrt of elements in below list and store it in new list\n",
        "l=[2,4,9,18,25,40,36,72,81]\n",
        "new=[i**0.5 for i in l]\n",
        "print(new)"
      ]
    },
    {
      "cell_type": "code",
      "execution_count": null,
      "metadata": {
        "id": "ohmuaqL9NOLv"
      },
      "outputs": [],
      "source": [
        "# Lambda Function\n",
        "# lambda function is an anonymous function where it can take many arguments and single expression\n"
      ]
    },
    {
      "cell_type": "code",
      "execution_count": null,
      "metadata": {
        "colab": {
          "base_uri": "https://localhost:8080/"
        },
        "id": "_ASP7VEoOK_J",
        "outputId": "842fbbcf-bcfd-4b09-a635-8a8f82aeae9b"
      },
      "outputs": [
        {
          "name": "stdout",
          "output_type": "stream",
          "text": [
            "Hello\n"
          ]
        }
      ],
      "source": [
        "def f1():\n",
        "  print(\"Hello\")\n",
        "f1()"
      ]
    },
    {
      "cell_type": "code",
      "execution_count": null,
      "metadata": {
        "colab": {
          "base_uri": "https://localhost:8080/"
        },
        "id": "bLZnW_RfOQkI",
        "outputId": "7f9eed4d-6ac7-45e0-a880-f79cb9749f98"
      },
      "outputs": [
        {
          "name": "stdout",
          "output_type": "stream",
          "text": [
            "15\n"
          ]
        }
      ],
      "source": [
        "# Syntax: lambda arguments: single expression\n",
        "# assign it to variable\n",
        "a=lambda x,y: x+y\n",
        "print(a(10,5))"
      ]
    },
    {
      "cell_type": "code",
      "execution_count": null,
      "metadata": {
        "colab": {
          "base_uri": "https://localhost:8080/"
        },
        "id": "991OSBNLOliL",
        "outputId": "bae5379b-e92c-4302-8470-5a2a56355aa0"
      },
      "outputs": [
        {
          "name": "stdout",
          "output_type": "stream",
          "text": [
            "(12, 23, 34)\n"
          ]
        }
      ],
      "source": [
        "b=lambda x,y,z: (x+10,y+20,z+30)\n",
        "print(b(2,3,4))"
      ]
    },
    {
      "cell_type": "code",
      "execution_count": null,
      "metadata": {
        "id": "6-KvADh0Ps3P"
      },
      "outputs": [],
      "source": [
        "# Note : Functions are first class objects --> a function can act like argument to the another function\n"
      ]
    },
    {
      "cell_type": "code",
      "execution_count": null,
      "metadata": {
        "id": "o05wLZQDQpBo"
      },
      "outputs": [],
      "source": [
        "# We use lambda function when there is more argument and single expression"
      ]
    },
    {
      "cell_type": "code",
      "execution_count": null,
      "metadata": {
        "colab": {
          "base_uri": "https://localhost:8080/"
        },
        "id": "XG7Rpvr8RT5t",
        "outputId": "baa63a8b-8720-44c5-f4c5-69def629c048"
      },
      "outputs": [
        {
          "name": "stdout",
          "output_type": "stream",
          "text": [
            "25\n",
            "8\n",
            "81\n",
            "6.0\n"
          ]
        }
      ],
      "source": [
        "# create function where it can print squar, cube, fourtime and sqrt of the numbers\n",
        "def square(n):\n",
        "  return n**2\n",
        "def cube(n):\n",
        "  return n**3\n",
        "def four(n):\n",
        "  return n**4\n",
        "def sqrt(n):\n",
        "  return n**0.5\n",
        "print(square(5))\n",
        "print(cube(2))\n",
        "print(four(3))\n",
        "print(sqrt(36))"
      ]
    },
    {
      "cell_type": "code",
      "execution_count": null,
      "metadata": {
        "id": "ggyexTJ0SDgT"
      },
      "outputs": [],
      "source": [
        "def power(n):\n",
        "  return lambda a:a**n\n",
        "square=power(2)\n",
        "cube=power(3)\n",
        "four=power(4)\n",
        "sqrt=power(0.5)\n",
        "print()"
      ]
    },
    {
      "cell_type": "markdown",
      "metadata": {
        "id": "XFpCw-f6UDhf"
      },
      "source": [
        "**10-07-2025 Practice**"
      ]
    },
    {
      "cell_type": "code",
      "execution_count": null,
      "metadata": {
        "colab": {
          "base_uri": "https://localhost:8080/"
        },
        "id": "ILTvwLTRUHQs",
        "outputId": "c9f2f86c-d1cb-4223-ad2f-3e73bf9bd319"
      },
      "outputs": [
        {
          "name": "stdout",
          "output_type": "stream",
          "text": [
            "{'a': 1, 'b': 2, 'c': 3}\n"
          ]
        }
      ],
      "source": [
        "my_dict = {'a': 1, 'b': 2, 'c': 3}\n",
        "new_dict = my_dict.copy()\n",
        "new_dict['d'] = 4\n",
        "print(my_dict)"
      ]
    },
    {
      "cell_type": "code",
      "execution_count": null,
      "metadata": {
        "colab": {
          "base_uri": "https://localhost:8080/"
        },
        "id": "8P_cJZFEULgV",
        "outputId": "14c3f5fb-6832-4cca-f1ac-6fff75d2df83"
      },
      "outputs": [
        {
          "name": "stdout",
          "output_type": "stream",
          "text": [
            "['__class__', '__class_getitem__', '__contains__', '__delattr__', '__delitem__', '__dir__', '__doc__', '__eq__', '__format__', '__ge__', '__getattribute__', '__getitem__', '__getstate__', '__gt__', '__hash__', '__init__', '__init_subclass__', '__ior__', '__iter__', '__le__', '__len__', '__lt__', '__ne__', '__new__', '__or__', '__reduce__', '__reduce_ex__', '__repr__', '__reversed__', '__ror__', '__setattr__', '__setitem__', '__sizeof__', '__str__', '__subclasshook__', 'clear', 'copy', 'fromkeys', 'get', 'items', 'keys', 'pop', 'popitem', 'setdefault', 'update', 'values']\n"
          ]
        }
      ],
      "source": [
        "print(dir(my_dict))"
      ]
    },
    {
      "cell_type": "code",
      "execution_count": null,
      "metadata": {
        "colab": {
          "base_uri": "https://localhost:8080/"
        },
        "id": "gQ2JTAlSUYcD",
        "outputId": "79596c59-bce9-485c-90ee-fba74819047a"
      },
      "outputs": [
        {
          "name": "stdout",
          "output_type": "stream",
          "text": [
            "dict_keys(['a', 'b', 'c'])\n"
          ]
        }
      ],
      "source": [
        "my_dict = {'a': 1, 'b': 2, 'c': 3}\n",
        "result = my_dict.keys()\n",
        "print(result)"
      ]
    },
    {
      "cell_type": "code",
      "execution_count": null,
      "metadata": {
        "colab": {
          "base_uri": "https://localhost:8080/"
        },
        "id": "LVRyFDgSUmcJ",
        "outputId": "9eaa0899-f808-4c40-8952-7a525cae6c89"
      },
      "outputs": [
        {
          "data": {
            "text/plain": [
              "[1, -3, 0, 5]"
            ]
          },
          "execution_count": 5,
          "metadata": {},
          "output_type": "execute_result"
        }
      ],
      "source": [
        "list1=[1,-3,0.9,5.6]\n",
        "[int(i) for i in list1]"
      ]
    },
    {
      "cell_type": "code",
      "execution_count": null,
      "metadata": {
        "colab": {
          "base_uri": "https://localhost:8080/"
        },
        "id": "soVCnmPzUyHT",
        "outputId": "97e3865b-f5c4-4c36-efed-64d848efe75b"
      },
      "outputs": [
        {
          "name": "stdout",
          "output_type": "stream",
          "text": [
            "{'Pink', 'Blue'}\n"
          ]
        }
      ],
      "source": [
        "set1 = {\"Yellow\", \"Orange\", \"Black\"}\n",
        "set2 = {\"Orange\", \"Blue\", \"Pink\"}\n",
        "set3 = set2.difference(set1)\n",
        "print(set3)"
      ]
    },
    {
      "cell_type": "code",
      "execution_count": null,
      "metadata": {
        "colab": {
          "base_uri": "https://localhost:8080/"
        },
        "id": "iyCrrc9PVP3N",
        "outputId": "c4865750-ac89-44cf-b8a4-e2b2b7a03aeb"
      },
      "outputs": [
        {
          "name": "stdout",
          "output_type": "stream",
          "text": [
            "y\n"
          ]
        }
      ],
      "source": [
        "list1 = ['physics', 'chemistry', 1997, 2000]\n",
        "print (list1[1][-1])"
      ]
    },
    {
      "cell_type": "code",
      "execution_count": null,
      "metadata": {
        "colab": {
          "base_uri": "https://localhost:8080/"
        },
        "id": "Ybcw4_rXVc2J",
        "outputId": "97ee5a4d-c499-4c1e-8e5e-989d2eea4d64"
      },
      "outputs": [
        {
          "name": "stdout",
          "output_type": "stream",
          "text": [
            "5\n"
          ]
        }
      ],
      "source": [
        "def func(a,b):\n",
        "    print(a-b)\n",
        "a=4\n",
        "b=9\n",
        "func(a=b,b=a)"
      ]
    },
    {
      "cell_type": "code",
      "execution_count": null,
      "metadata": {
        "colab": {
          "base_uri": "https://localhost:8080/"
        },
        "id": "YkjwI57JVlvo",
        "outputId": "03a93536-5f32-42e5-a72b-6612b3140201"
      },
      "outputs": [
        {
          "name": "stdout",
          "output_type": "stream",
          "text": [
            "5 "
          ]
        }
      ],
      "source": [
        "L = [1, 3, 5, 7, 9]\n",
        "print(L.pop(-3), end = ' ')"
      ]
    },
    {
      "cell_type": "code",
      "execution_count": null,
      "metadata": {
        "colab": {
          "base_uri": "https://localhost:8080/"
        },
        "id": "ooS4kZblV6Pw",
        "outputId": "d695fd7c-3f69-4ec8-b0ee-79d1cb31626a"
      },
      "outputs": [
        {
          "name": "stdout",
          "output_type": "stream",
          "text": [
            "2\n"
          ]
        }
      ],
      "source": [
        "my_dict = {'a': 1, 'b': 2, 'c': 3}\n",
        "result = my_dict.get('b', 0)\n",
        "print(result)"
      ]
    },
    {
      "cell_type": "code",
      "execution_count": null,
      "metadata": {
        "colab": {
          "base_uri": "https://localhost:8080/"
        },
        "id": "MLKLMxfTV_RP",
        "outputId": "0c5b2e4c-f598-40bd-aa0b-d5f74bbbad91"
      },
      "outputs": [
        {
          "name": "stdout",
          "output_type": "stream",
          "text": [
            "[2, 4]\n"
          ]
        }
      ],
      "source": [
        "nums = [1, 2, 3, 4, 5]\n",
        "result = [x for x in nums if x % 2 == 0]\n",
        "print(result)"
      ]
    },
    {
      "cell_type": "code",
      "execution_count": null,
      "metadata": {
        "colab": {
          "base_uri": "https://localhost:8080/"
        },
        "id": "IxGg89smWIOI",
        "outputId": "5f7b592f-a6eb-4060-8160-6a6350794342"
      },
      "outputs": [
        {
          "name": "stdout",
          "output_type": "stream",
          "text": [
            "{40, 10, '10', 50, 20, 60, 30}\n"
          ]
        }
      ],
      "source": [
        "set1 = {10, 20, 30, 40}\n",
        "set2 = {50, 20, \"10\", 60}\n",
        "set3 = set1.union(set2)\n",
        "print(set3)"
      ]
    },
    {
      "cell_type": "code",
      "execution_count": null,
      "metadata": {
        "colab": {
          "base_uri": "https://localhost:8080/"
        },
        "id": "YJQpwhG7WbRa",
        "outputId": "a291b483-7b30-4c54-bce7-5cf916088f77"
      },
      "outputs": [
        {
          "name": "stdout",
          "output_type": "stream",
          "text": [
            "[2, 4, 6, 8, 10]\n"
          ]
        }
      ],
      "source": [
        "numbers = [1, 2, 3, 4, 5]\n",
        "result = [num * 2 for num in numbers]\n",
        "print(result)"
      ]
    },
    {
      "cell_type": "code",
      "execution_count": null,
      "metadata": {
        "colab": {
          "base_uri": "https://localhost:8080/"
        },
        "id": "WoY5YUKmWwLK",
        "outputId": "f77dcde4-8fd8-44d2-ecb7-99a7eb760d2c"
      },
      "outputs": [
        {
          "name": "stdout",
          "output_type": "stream",
          "text": [
            "[25, 10]\n"
          ]
        }
      ],
      "source": [
        "aList = [5, 10, 15, 25]\n",
        "print(aList[::-2])\n"
      ]
    },
    {
      "cell_type": "code",
      "execution_count": null,
      "metadata": {
        "colab": {
          "base_uri": "https://localhost:8080/"
        },
        "id": "45rMHZJxXSkG",
        "outputId": "621d7285-1dae-4a28-d439-cd86b8b32913"
      },
      "outputs": [
        {
          "name": "stdout",
          "output_type": "stream",
          "text": [
            "4\n"
          ]
        }
      ],
      "source": [
        "my_dict = {'a': 1, 'b': 2, 'c': 3}\n",
        "result = my_dict.setdefault('d', 4)\n",
        "print(result)"
      ]
    },
    {
      "cell_type": "code",
      "execution_count": null,
      "metadata": {
        "colab": {
          "base_uri": "https://localhost:8080/"
        },
        "id": "laizaDTRXr4a",
        "outputId": "83a9a0e8-9bcc-4c81-bcda-6f9150688932"
      },
      "outputs": [
        {
          "name": "stdout",
          "output_type": "stream",
          "text": [
            "{'a': 1, 'b': 3, 'c': 4}\n"
          ]
        }
      ],
      "source": [
        "dict1 = {'a': 1, 'b': 2}\n",
        "dict2 = {'b': 3, 'c': 4}\n",
        "dict1.update(dict2)\n",
        "print(dict1)"
      ]
    },
    {
      "cell_type": "code",
      "execution_count": null,
      "metadata": {
        "colab": {
          "base_uri": "https://localhost:8080/"
        },
        "id": "NGE67cAJXzUd",
        "outputId": "b8acbafc-d57d-41db-b681-fa8ae0fc3b95"
      },
      "outputs": [
        {
          "name": "stdout",
          "output_type": "stream",
          "text": [
            "apple\n",
            "banana\n",
            "cherry\n"
          ]
        }
      ],
      "source": [
        "fruits = [\"apple\", \"banana\", \"cherry\"]\n",
        "for fruit in fruits:\n",
        "    print(fruit)"
      ]
    },
    {
      "cell_type": "markdown",
      "metadata": {
        "id": "xoBFzW40spMZ"
      },
      "source": [
        "**28-07-2025**"
      ]
    },
    {
      "cell_type": "code",
      "execution_count": null,
      "metadata": {
        "id": "XvS6ySZxYG_-"
      },
      "outputs": [],
      "source": [
        "import xlrd"
      ]
    },
    {
      "cell_type": "code",
      "execution_count": null,
      "metadata": {
        "id": "VElncojEvaD1"
      },
      "outputs": [],
      "source": [
        "loc =\"C:\\\\Users\\\\gopis\\\\Downloads\\\\file_example_XLS_5000.xls\""
      ]
    },
    {
      "cell_type": "markdown",
      "metadata": {
        "id": "jjvAnhNCKdpJ"
      },
      "source": [
        "**31-07-2025**"
      ]
    },
    {
      "cell_type": "code",
      "execution_count": null,
      "metadata": {
        "id": "wUrmA7XQKiFA"
      },
      "outputs": [],
      "source": [
        "#Numpy\n",
        "import numpy as np"
      ]
    },
    {
      "cell_type": "code",
      "execution_count": null,
      "metadata": {
        "colab": {
          "base_uri": "https://localhost:8080/"
        },
        "id": "AO09vfEdMxbc",
        "outputId": "5c58c9e1-e4bf-4256-8c92-265202f48aa2"
      },
      "outputs": [
        {
          "name": "stdout",
          "output_type": "stream",
          "text": [
            "<class 'numpy.ndarray'>\n",
            "{1, 2, 3, 4, 5}\n"
          ]
        }
      ],
      "source": [
        "# create array from\n",
        "s1={1,2,3,4,5}\n",
        "a=np.array(s1)\n",
        "print(type(a))  #We can't convert set to array\n",
        "print(a)"
      ]
    },
    {
      "cell_type": "code",
      "execution_count": null,
      "metadata": {
        "colab": {
          "base_uri": "https://localhost:8080/"
        },
        "id": "tL6BHLhJNBuw",
        "outputId": "701b74ba-8bf5-4c82-d20b-00026ae46048"
      },
      "outputs": [
        {
          "name": "stdout",
          "output_type": "stream",
          "text": [
            "[1 2 3 4 5]\n"
          ]
        }
      ],
      "source": [
        "t1=(1,2,3,4,5)\n",
        "b=np.array(t1)\n",
        "print(b)"
      ]
    },
    {
      "cell_type": "code",
      "execution_count": null,
      "metadata": {
        "colab": {
          "base_uri": "https://localhost:8080/"
        },
        "id": "3agnhDZ_NOlM",
        "outputId": "a1e5b45c-f9c0-4d4f-9eb3-8b60766fd32e"
      },
      "outputs": [
        {
          "name": "stdout",
          "output_type": "stream",
          "text": [
            "[[1 2 3]\n",
            " [4 5 6]]\n",
            "(2, 3)\n",
            "2\n",
            "6\n",
            "int64\n",
            "8\n"
          ]
        }
      ],
      "source": [
        "# 2-D array\n",
        "a=np.array([[1,2,3],[4,5,6]])\n",
        "print(a)\n",
        "# find no of rows and columns\n",
        "print(a.shape)\n",
        "# find dimensions\n",
        "print(a.ndim)\n",
        "# find no of elements\n",
        "print(a.size)\n",
        "# find data type\n",
        "print(a.dtype)\n",
        "# find itemsize means memory size\n",
        "print(a.itemsize)"
      ]
    },
    {
      "cell_type": "code",
      "execution_count": null,
      "metadata": {
        "colab": {
          "base_uri": "https://localhost:8080/"
        },
        "id": "iai47MPXOAi2",
        "outputId": "c2a20def-a52e-4fcb-c4a8-4add500631ba"
      },
      "outputs": [
        {
          "name": "stdout",
          "output_type": "stream",
          "text": [
            "[1 2 3]\n",
            "[4 5 6]\n",
            "5\n",
            "3\n"
          ]
        }
      ],
      "source": [
        "# access elements from arrays\n",
        "# syntax: array[row_index,col_index]\n",
        "print(a[0])\n",
        "print(a[1])\n",
        "print(a[1,1])\n",
        "print(a[0,2])"
      ]
    },
    {
      "cell_type": "code",
      "execution_count": null,
      "metadata": {
        "colab": {
          "base_uri": "https://localhost:8080/"
        },
        "id": "zy70aKEgPSGb",
        "outputId": "fb1a6ced-77c6-4cf4-f486-2c7c872436b2"
      },
      "outputs": [
        {
          "name": "stdout",
          "output_type": "stream",
          "text": [
            "[[ 1  2  3  4]\n",
            " [ 5  6  7  8]\n",
            " [ 9 10 11 12]]\n"
          ]
        }
      ],
      "source": [
        "a=np.array([[1,2,3,4],[5,6,7,8],[9,10,11,12]])\n",
        "print(a)"
      ]
    },
    {
      "cell_type": "code",
      "execution_count": null,
      "metadata": {
        "colab": {
          "base_uri": "https://localhost:8080/"
        },
        "id": "Yqfl_zk1Q_AZ",
        "outputId": "f256a77e-dd6f-44b3-e6c1-16cb2b779a32"
      },
      "outputs": [
        {
          "name": "stdout",
          "output_type": "stream",
          "text": [
            "[1 5 9]\n",
            "[ 3  7 11]\n"
          ]
        }
      ],
      "source": [
        "# print 1st column in array\n",
        "print(a[:,0])\n",
        "# print 3rd column values\n",
        "print(a[:,2])"
      ]
    },
    {
      "cell_type": "code",
      "execution_count": null,
      "metadata": {
        "colab": {
          "base_uri": "https://localhost:8080/"
        },
        "id": "PjgzMmu6Rr2U",
        "outputId": "2974c70e-878a-42f6-e8af-998c0b865a81"
      },
      "outputs": [
        {
          "name": "stdout",
          "output_type": "stream",
          "text": [
            "[10 11 12]\n",
            "[ 8 12]\n"
          ]
        }
      ],
      "source": [
        "# access only particular line 10 11 12\n",
        "print(a[2,1:4])\n",
        "# print only 8 and 12\n",
        "print(a[1:3,3])"
      ]
    },
    {
      "cell_type": "code",
      "execution_count": null,
      "metadata": {
        "colab": {
          "base_uri": "https://localhost:8080/"
        },
        "id": "mZEMbxsESPFu",
        "outputId": "36449145-bb44-4436-d81e-92b77b0bd91b"
      },
      "outputs": [
        {
          "name": "stdout",
          "output_type": "stream",
          "text": [
            "1\n",
            "5\n",
            "9\n"
          ]
        }
      ],
      "source": [
        "b=a[:,0]\n",
        "for i in b:\n",
        "  print(i)"
      ]
    },
    {
      "cell_type": "code",
      "execution_count": null,
      "metadata": {
        "colab": {
          "base_uri": "https://localhost:8080/"
        },
        "id": "XBXOVj1-S-9a",
        "outputId": "60660730-707e-49fb-cdbc-2e7bbee4d3b0"
      },
      "outputs": [
        {
          "name": "stdout",
          "output_type": "stream",
          "text": [
            "[[1 2 3]\n",
            " [4 5 6]]\n",
            "[[1 4]\n",
            " [2 5]\n",
            " [3 6]]\n"
          ]
        }
      ],
      "source": [
        "# Transpose\n",
        "a=np.array([[1,2,3],[4,5,6]])\n",
        "print(a)\n",
        "print(a.T)"
      ]
    },
    {
      "cell_type": "code",
      "execution_count": null,
      "metadata": {
        "colab": {
          "base_uri": "https://localhost:8080/"
        },
        "id": "VfikSk6ZTO4S",
        "outputId": "7261360b-b75a-4159-cc6f-af296213a858"
      },
      "outputs": [
        {
          "name": "stdout",
          "output_type": "stream",
          "text": [
            "[[13 16]\n",
            " [29 36]]\n",
            "[[13 16]\n",
            " [29 36]]\n"
          ]
        }
      ],
      "source": [
        "# Matrix multiplication_--> Dot product\n",
        "a=np.array([[1,2],[3,4]])\n",
        "b=np.array([[3,4],[5,6]])\n",
        "c=np.dot(a,b)\n",
        "print(c)\n",
        "print(a@b)"
      ]
    },
    {
      "cell_type": "code",
      "execution_count": null,
      "metadata": {
        "colab": {
          "base_uri": "https://localhost:8080/"
        },
        "id": "4m23IuXqUf91",
        "outputId": "14dc064a-c182-466f-ccc3-0e7732a35cfd"
      },
      "outputs": [
        {
          "name": "stdout",
          "output_type": "stream",
          "text": [
            "[[-2.   1. ]\n",
            " [ 1.5 -0.5]]\n"
          ]
        }
      ],
      "source": [
        "# Inverse\n",
        "a=np.array([[1,2],[3,4]])\n",
        "d=np.linalg.inv(a)\n",
        "print(d)"
      ]
    },
    {
      "cell_type": "code",
      "execution_count": null,
      "metadata": {
        "colab": {
          "base_uri": "https://localhost:8080/"
        },
        "id": "vZTPsJCJVFWu",
        "outputId": "e469f37d-3eac-4089-85bb-5ee9c55cf665"
      },
      "outputs": [
        {
          "name": "stdout",
          "output_type": "stream",
          "text": [
            "[1 4]\n"
          ]
        }
      ],
      "source": [
        "# Diagonal Elements\n",
        "e=np.diag(a)\n",
        "print(e)"
      ]
    },
    {
      "cell_type": "code",
      "execution_count": null,
      "metadata": {
        "colab": {
          "base_uri": "https://localhost:8080/"
        },
        "id": "YdiRV_2uVUq8",
        "outputId": "f2814f10-8ede-4c08-f02a-232429a3abe6"
      },
      "outputs": [
        {
          "name": "stdout",
          "output_type": "stream",
          "text": [
            "[[1 0 0]\n",
            " [0 4 0]\n",
            " [0 0 5]]\n"
          ]
        }
      ],
      "source": [
        "# Note: Diagonal on vectors return a matrix\n",
        "c=np.diag([1,4,5])\n",
        "print(c)"
      ]
    },
    {
      "cell_type": "code",
      "execution_count": null,
      "metadata": {
        "colab": {
          "base_uri": "https://localhost:8080/"
        },
        "id": "m7AtvaWUVq0A",
        "outputId": "9f9719e1-5c25-4344-c482-c5ce1612a5ab"
      },
      "outputs": [
        {
          "name": "stdout",
          "output_type": "stream",
          "text": [
            "[[1 2]\n",
            " [3 4]\n",
            " [5 6]]\n"
          ]
        }
      ],
      "source": [
        "# Boolean Indexing\n",
        "a=np.array([[1,2],[3,4],[5,6]])\n",
        "print(a)\n"
      ]
    },
    {
      "cell_type": "code",
      "execution_count": null,
      "metadata": {
        "colab": {
          "base_uri": "https://localhost:8080/"
        },
        "id": "Sm5RqTJdXQfm",
        "outputId": "e094c3b7-c18a-4ef0-bc22-b3b8c0ad204d"
      },
      "outputs": [
        {
          "name": "stdout",
          "output_type": "stream",
          "text": [
            "[[False False]\n",
            " [ True  True]\n",
            " [ True  True]]\n"
          ]
        }
      ],
      "source": [
        "print(a>2)"
      ]
    },
    {
      "cell_type": "code",
      "execution_count": null,
      "metadata": {
        "colab": {
          "base_uri": "https://localhost:8080/"
        },
        "id": "8-eHSOtoXYAb",
        "outputId": "91651780-0e73-4ffb-a9cb-8ca63aa332dd"
      },
      "outputs": [
        {
          "name": "stdout",
          "output_type": "stream",
          "text": [
            "[3 4 5 6]\n"
          ]
        }
      ],
      "source": [
        "print(a[a>2])"
      ]
    },
    {
      "cell_type": "code",
      "execution_count": null,
      "metadata": {
        "colab": {
          "base_uri": "https://localhost:8080/"
        },
        "id": "LJfxs73fXadC",
        "outputId": "0e46078d-2531-4213-d881-616336a39429"
      },
      "outputs": [
        {
          "name": "stdout",
          "output_type": "stream",
          "text": [
            "[1, 2, 3, 4, 5, 6, 1, 2, 3, 4, 5, 6]\n"
          ]
        }
      ],
      "source": [
        "l=[1,2,3,4,5,6]\n",
        "print(l*2)"
      ]
    },
    {
      "cell_type": "code",
      "execution_count": null,
      "metadata": {
        "colab": {
          "base_uri": "https://localhost:8080/"
        },
        "id": "GZjUWpjNX0Wp",
        "outputId": "d92c457e-2b17-40e1-de67-4f0fa4c0fbb6"
      },
      "outputs": [
        {
          "name": "stdout",
          "output_type": "stream",
          "text": [
            "[[ 2  4]\n",
            " [ 6  8]\n",
            " [10 12]]\n"
          ]
        }
      ],
      "source": [
        "a=np.array([[1,2],[3,4],[5,6]])\n",
        "print(a*2)"
      ]
    },
    {
      "cell_type": "code",
      "execution_count": null,
      "metadata": {
        "colab": {
          "base_uri": "https://localhost:8080/"
        },
        "id": "B6bMeTJPYCTZ",
        "outputId": "b5bb247d-8a4a-447a-c3a1-51e028ebffc3"
      },
      "outputs": [
        {
          "name": "stdout",
          "output_type": "stream",
          "text": [
            "[[-1 -1]\n",
            " [ 3  4]\n",
            " [ 5  6]]\n"
          ]
        }
      ],
      "source": [
        "# np.where(logic,True,False)\n",
        "a=np.array([[1,2],[3,4],[5,6]])\n",
        "# print numbers greater than 2 and less than number print it as -1\n",
        "b=np.where(a>2,a,-1)\n",
        "print(b)"
      ]
    },
    {
      "cell_type": "code",
      "execution_count": null,
      "metadata": {
        "colab": {
          "base_uri": "https://localhost:8080/"
        },
        "id": "fd-QyqW5Y3YY",
        "outputId": "ac8d97d3-c7b6-425d-f881-9d79cae2915b"
      },
      "outputs": [
        {
          "name": "stdout",
          "output_type": "stream",
          "text": [
            "[0 2 3 5]\n"
          ]
        }
      ],
      "source": [
        "# To compute the indexes where the condition is true\n",
        "c=np.array([10,19,20,30,41,50,61])\n",
        "# get the index position of even numbers\n",
        "even=np.argwhere(c%2==0).flatten()\n",
        "print(even)"
      ]
    },
    {
      "cell_type": "code",
      "execution_count": null,
      "metadata": {
        "colab": {
          "base_uri": "https://localhost:8080/"
        },
        "id": "jlJ9PoMPasKu",
        "outputId": "541a9c70-5afc-48dd-fe63-1c8f05137370"
      },
      "outputs": [
        {
          "name": "stdout",
          "output_type": "stream",
          "text": [
            "[[0 1]\n",
            " [1 1]\n",
            " [2 1]]\n"
          ]
        }
      ],
      "source": [
        "even2=np.argwhere(a%2==0)\n",
        "print(even2)"
      ]
    },
    {
      "cell_type": "code",
      "execution_count": null,
      "metadata": {
        "colab": {
          "base_uri": "https://localhost:8080/"
        },
        "id": "hh1DiW83aNzc",
        "outputId": "6bdca544-025b-46bd-ab16-a4d3f29d9e84"
      },
      "outputs": [
        {
          "name": "stdout",
          "output_type": "stream",
          "text": [
            "[2 4 6]\n"
          ]
        }
      ],
      "source": [
        "a=np.array([[1,2],[3,4],[5,6]])\n",
        "even2=np.argwhere(a%2==0)\n",
        "a_even=a[even2[:,0],even2[:,1]]\n",
        "print(a_even)"
      ]
    },
    {
      "cell_type": "markdown",
      "metadata": {
        "id": "KYXPhVzKUKyR"
      },
      "source": [
        "**01-08-2025**"
      ]
    },
    {
      "cell_type": "code",
      "execution_count": null,
      "metadata": {
        "id": "fSv_4dPTb9AW"
      },
      "outputs": [],
      "source": [
        "# Reshaping of array\n",
        "import numpy as np"
      ]
    },
    {
      "cell_type": "code",
      "execution_count": null,
      "metadata": {
        "colab": {
          "base_uri": "https://localhost:8080/"
        },
        "id": "eoJtpANdVqUS",
        "outputId": "b264013e-eb2c-4da6-c2b0-367d45a3bea5"
      },
      "outputs": [
        {
          "name": "stdout",
          "output_type": "stream",
          "text": [
            "[0 1 2 3 4 5 6 7 8 9]\n"
          ]
        }
      ],
      "source": [
        "# create a range of array up to 10\n",
        "a=np.arange(10)\n",
        "print(a)"
      ]
    },
    {
      "cell_type": "code",
      "execution_count": null,
      "metadata": {
        "colab": {
          "base_uri": "https://localhost:8080/"
        },
        "id": "cB-ikw8IV77X",
        "outputId": "ff61eb70-f01d-400f-b854-35ac55aa29b8"
      },
      "outputs": [
        {
          "name": "stdout",
          "output_type": "stream",
          "text": [
            "[ 1  2  3  4  5  6  7  8  9 10]\n"
          ]
        }
      ],
      "source": [
        "# create a range of array up 1 to 10\n",
        "b=np.arange(1,11)\n",
        "print(b)"
      ]
    },
    {
      "cell_type": "code",
      "execution_count": null,
      "metadata": {
        "colab": {
          "base_uri": "https://localhost:8080/"
        },
        "id": "6SxHzPFFWHSi",
        "outputId": "2eb82fd2-f1a8-4ff5-dff1-13049bdfa69e"
      },
      "outputs": [
        {
          "name": "stdout",
          "output_type": "stream",
          "text": [
            "[[ 1  2  3  4  5]\n",
            " [ 6  7  8  9 10]]\n"
          ]
        }
      ],
      "source": [
        "# convert array into 2 rows and 5 columns\n",
        "c=b.reshape(2,5)\n",
        "print(c)"
      ]
    },
    {
      "cell_type": "code",
      "execution_count": null,
      "metadata": {
        "colab": {
          "base_uri": "https://localhost:8080/"
        },
        "id": "UZ2hnyKBWkJF",
        "outputId": "36e07c99-7a70-43e7-ce15-3b36627bc5f6"
      },
      "outputs": [
        {
          "name": "stdout",
          "output_type": "stream",
          "text": [
            "[[ 1  2]\n",
            " [ 3  4]\n",
            " [ 5  6]\n",
            " [ 7  8]\n",
            " [ 9 10]]\n"
          ]
        }
      ],
      "source": [
        "# convert array into 5 rows and 2 columns\n",
        "d=b.reshape(5,2)\n",
        "print(d)\n"
      ]
    },
    {
      "cell_type": "code",
      "execution_count": null,
      "metadata": {
        "colab": {
          "base_uri": "https://localhost:8080/"
        },
        "id": "pGUEnd4_Wymu",
        "outputId": "c35ee398-91b7-4049-cc8f-33f4c48332fe"
      },
      "outputs": [
        {
          "name": "stdout",
          "output_type": "stream",
          "text": [
            "[1 2 3 4 5 6]\n",
            "[[1 2 3]\n",
            " [4 5 6]]\n"
          ]
        }
      ],
      "source": [
        "# create a range of array from 1 to 6 and convert into 2 rows and 3 columns\n",
        "e=np.arange(1,7)\n",
        "print(e)\n",
        "f=e.reshape(2,3)\n",
        "print(f)"
      ]
    },
    {
      "cell_type": "code",
      "execution_count": null,
      "metadata": {
        "colab": {
          "base_uri": "https://localhost:8080/"
        },
        "id": "inz571TVZWHD",
        "outputId": "93b84291-f5cd-43cb-ef6c-8f688f5b87e4"
      },
      "outputs": [
        {
          "name": "stdout",
          "output_type": "stream",
          "text": [
            "[[1 2 3 4 5 6]]\n"
          ]
        }
      ],
      "source": [
        "# np.newaxis--> Used to reshape the array\n",
        "g=e[np.newaxis,:]\n",
        "print(g)\n"
      ]
    },
    {
      "cell_type": "code",
      "execution_count": null,
      "metadata": {
        "colab": {
          "base_uri": "https://localhost:8080/"
        },
        "id": "x8TIuA2sXHV6",
        "outputId": "de65add4-500a-48b8-9d4d-a726c3675763"
      },
      "outputs": [
        {
          "name": "stdout",
          "output_type": "stream",
          "text": [
            "[[1]\n",
            " [2]\n",
            " [3]\n",
            " [4]\n",
            " [5]\n",
            " [6]]\n"
          ]
        }
      ],
      "source": [
        "h=e[:,np.newaxis]\n",
        "print(h)"
      ]
    },
    {
      "cell_type": "code",
      "execution_count": null,
      "metadata": {
        "colab": {
          "base_uri": "https://localhost:8080/"
        },
        "id": "hEA3MSSHZMZI",
        "outputId": "938de48e-3bef-45b0-9330-a111d6191135"
      },
      "outputs": [
        {
          "name": "stdout",
          "output_type": "stream",
          "text": [
            "[[1 2]\n",
            " [3 4]\n",
            " [5 6]\n",
            " [7 8]]\n",
            "[[1 2 5 6]\n",
            " [3 4 7 8]]\n",
            "[1 2 3 4 5 6 7 8]\n"
          ]
        }
      ],
      "source": [
        "# concatenation\n",
        "a=np.array([[1,2],[3,4]])\n",
        "b=np.array([[5,6],[7,8]])\n",
        "c=np.concat((a,b),axis=0) #row wise\n",
        "print(c)\n",
        "d=np.concat((a,b),axis=1) #column wise\n",
        "print(d)\n",
        "e=np.concat((a,b),axis=None) #normal\n",
        "print(e)"
      ]
    },
    {
      "cell_type": "code",
      "execution_count": null,
      "metadata": {
        "colab": {
          "base_uri": "https://localhost:8080/"
        },
        "id": "onddDx2qarhy",
        "outputId": "75af9a3f-4886-491f-9838-f3dcfa96e53a"
      },
      "outputs": [
        {
          "name": "stdout",
          "output_type": "stream",
          "text": [
            "[[1 2 5 6]\n",
            " [3 4 7 8]]\n"
          ]
        }
      ],
      "source": [
        "# hstack--> Stack array adding in sequence horizentally\n",
        "a=np.array([[1,2],[3,4]])\n",
        "b=np.array([[5,6],[7,8]])\n",
        "h=np.hstack((a,b))\n",
        "print(h)"
      ]
    },
    {
      "cell_type": "code",
      "execution_count": null,
      "metadata": {
        "colab": {
          "base_uri": "https://localhost:8080/"
        },
        "id": "uU0x0miYbsqy",
        "outputId": "3db2b4b8-ee54-4033-be9e-1eef235b68ab"
      },
      "outputs": [
        {
          "name": "stdout",
          "output_type": "stream",
          "text": [
            "[[1 2]\n",
            " [3 4]\n",
            " [5 6]\n",
            " [7 8]]\n"
          ]
        }
      ],
      "source": [
        "# Vstack--> stack array adding sequence in vertically\n",
        "a=np.array([[1,2],[3,4]])\n",
        "b=np.array([[5,6],[7,8]])\n",
        "v=np.vstack((a,b))\n",
        "print(v)"
      ]
    },
    {
      "cell_type": "code",
      "execution_count": null,
      "metadata": {
        "colab": {
          "base_uri": "https://localhost:8080/"
        },
        "id": "0W9Rz5uncR2J",
        "outputId": "af066011-a68f-4e61-ec0e-81194ca07b91"
      },
      "outputs": [
        {
          "name": "stdout",
          "output_type": "stream",
          "text": [
            "[[ 2  2  4]\n",
            " [ 5  5  7]\n",
            " [ 8  8 10]\n",
            " [11 11 13]]\n"
          ]
        }
      ],
      "source": [
        "# Broadcasting method--> It is a power mechanism tool that allows numpy to work with different arrays of different shapes when performing the arithmetic operations\n",
        "x=np.array([[1,2,3],[4,5,6],[7,8,9],[10,11,12]])\n",
        "y=np.array([1,0,1])\n",
        "z=x+y\n",
        "print(z)"
      ]
    },
    {
      "cell_type": "code",
      "execution_count": null,
      "metadata": {
        "colab": {
          "base_uri": "https://localhost:8080/"
        },
        "id": "8siIOGq8eGEg",
        "outputId": "f94c1909-30ed-4519-d63b-93d505d195f6"
      },
      "outputs": [
        {
          "name": "stdout",
          "output_type": "stream",
          "text": [
            "[8 2 3]\n"
          ]
        }
      ],
      "source": [
        "# copying of an array\n",
        "a=np.array([1,2,3])\n",
        "b=a\n",
        "b[0]=8\n",
        "print(b)"
      ]
    },
    {
      "cell_type": "code",
      "execution_count": null,
      "metadata": {
        "colab": {
          "base_uri": "https://localhost:8080/"
        },
        "id": "UHWZTih-e2pg",
        "outputId": "15dc453e-5482-4e7e-b0f1-4a2947f7b7a1"
      },
      "outputs": [
        {
          "name": "stdout",
          "output_type": "stream",
          "text": [
            "[1 2 3]\n",
            "[8 2 3]\n"
          ]
        }
      ],
      "source": [
        "a=np.array([1,2,3])\n",
        "b=a.copy() #using the copy command the original data will not effect or changes\n",
        "b[0]=8\n",
        "print(a)\n",
        "print(b)"
      ]
    },
    {
      "cell_type": "code",
      "execution_count": null,
      "metadata": {
        "colab": {
          "base_uri": "https://localhost:8080/"
        },
        "id": "-miyHmlye7Bs",
        "outputId": "fea3fa32-f96f-47d2-bcfa-39668f1bf5a5"
      },
      "outputs": [
        {
          "name": "stdout",
          "output_type": "stream",
          "text": [
            "[[0. 0. 0.]\n",
            " [0. 0. 0.]]\n"
          ]
        }
      ],
      "source": [
        "# Generating arrays\n",
        "# 1.Generate an array of zeros with 2 rows and 3 columns\n",
        "a=np.zeros((2,3))\n",
        "print(a)"
      ]
    },
    {
      "cell_type": "code",
      "execution_count": null,
      "metadata": {
        "colab": {
          "base_uri": "https://localhost:8080/"
        },
        "id": "R6HGt3tjfsvS",
        "outputId": "2f3a567f-a167-44ef-a995-487a09d271b0"
      },
      "outputs": [
        {
          "name": "stdout",
          "output_type": "stream",
          "text": [
            "[0. 0. 0.]\n"
          ]
        }
      ],
      "source": [
        "a=np.zeros(3)\n",
        "print(a)"
      ]
    },
    {
      "cell_type": "code",
      "execution_count": null,
      "metadata": {
        "colab": {
          "base_uri": "https://localhost:8080/"
        },
        "id": "k2o1nZRjfykG",
        "outputId": "5bc53d17-b7f3-4347-f634-c2a4969d1a82"
      },
      "outputs": [
        {
          "name": "stdout",
          "output_type": "stream",
          "text": [
            "[[1. 1. 1.]\n",
            " [1. 1. 1.]]\n"
          ]
        }
      ],
      "source": [
        "# 2.Generate an array of ones with 2 rows and 3 columns\n",
        "b=np.ones((2,3))\n",
        "print(b)\n"
      ]
    },
    {
      "cell_type": "code",
      "execution_count": null,
      "metadata": {
        "colab": {
          "base_uri": "https://localhost:8080/"
        },
        "id": "NsaPwRjNf-NM",
        "outputId": "eaa2a2f3-9f97-450d-eb1f-042ecebd866f"
      },
      "outputs": [
        {
          "name": "stdout",
          "output_type": "stream",
          "text": [
            "[[5 5 5]\n",
            " [5 5 5]]\n"
          ]
        }
      ],
      "source": [
        "# 3. Generate an array specific number with particular rows and columns\n",
        "c=np.full((2,3),5)\n",
        "print(c)"
      ]
    },
    {
      "cell_type": "code",
      "execution_count": null,
      "metadata": {
        "colab": {
          "base_uri": "https://localhost:8080/"
        },
        "id": "m86IsdL5gg3Y",
        "outputId": "b5e4b77c-94e2-4e50-f5a8-a2d0a6eebd31"
      },
      "outputs": [
        {
          "name": "stdout",
          "output_type": "stream",
          "text": [
            "[[1. 0. 0. 0.]\n",
            " [0. 1. 0. 0.]\n",
            " [0. 0. 1. 0.]\n",
            " [0. 0. 0. 1.]]\n",
            "[[1. 0. 0. 0. 0.]\n",
            " [0. 1. 0. 0. 0.]\n",
            " [0. 0. 1. 0. 0.]\n",
            " [0. 0. 0. 1. 0.]\n",
            " [0. 0. 0. 0. 1.]]\n"
          ]
        }
      ],
      "source": [
        "# Generate an identity matrix\n",
        "d=np.eye(4)\n",
        "print(d)\n",
        "d1=np.identity(5)\n",
        "print(d1)"
      ]
    },
    {
      "cell_type": "code",
      "execution_count": null,
      "metadata": {
        "colab": {
          "base_uri": "https://localhost:8080/"
        },
        "id": "a3l8zDY6gtk9",
        "outputId": "152e0e36-d4b6-4c6d-86aa-a14cfaf0f00c"
      },
      "outputs": [
        {
          "name": "stdout",
          "output_type": "stream",
          "text": [
            "[ 0.   2.5  5.   7.5 10. ]\n"
          ]
        }
      ],
      "source": [
        "# np.linspace(start,end,no of partitions)--> splits the data into n equal parts\n",
        "e=np.linspace(0,10,5)\n",
        "print(e)"
      ]
    },
    {
      "cell_type": "code",
      "execution_count": null,
      "metadata": {
        "colab": {
          "base_uri": "https://localhost:8080/"
        },
        "id": "AIiw5NFehKyp",
        "outputId": "3058d70a-a1b2-4908-fed2-6b668da94535"
      },
      "outputs": [
        {
          "name": "stdout",
          "output_type": "stream",
          "text": [
            "[[0.33547538 0.62118616]\n",
            " [0.74023752 0.00309383]\n",
            " [0.42064322 0.23864954]]\n"
          ]
        }
      ],
      "source": [
        "# Generate random numbers\n",
        "# Generate an array which is uniformaly distributed 0 to 1 with 3 rows and 2 column\n",
        "a=np.random.random((3,2))\n",
        "print(a)"
      ]
    },
    {
      "cell_type": "code",
      "execution_count": null,
      "metadata": {
        "colab": {
          "base_uri": "https://localhost:8080/"
        },
        "id": "GR1LInD0iMGl",
        "outputId": "05fc88e5-df42-404e-f9f1-7cdea45bc906"
      },
      "outputs": [
        {
          "name": "stdout",
          "output_type": "stream",
          "text": [
            "0.02649556775570096 0.993652717965573\n"
          ]
        }
      ],
      "source": [
        "# generate an array of which is normally distribute with 1000 rows\n",
        "b=np.random.randn(1000)\n",
        "# print(b)\n",
        "print(b.mean(),b.std())"
      ]
    },
    {
      "cell_type": "code",
      "execution_count": null,
      "metadata": {
        "colab": {
          "background_save": true,
          "base_uri": "https://localhost:8080/"
        },
        "id": "dR_83UfkjQrl",
        "outputId": "bb5e2070-977f-45fe-9429-23aebf9eda27"
      },
      "outputs": [
        {
          "name": "stdout",
          "output_type": "stream",
          "text": [
            "[[8 8]\n",
            " [8 5]\n",
            " [8 8]]\n"
          ]
        }
      ],
      "source": [
        "# Generate an random integers\n",
        "c=np.random.randint(3,10,size=(3,2))\n",
        "print(c)"
      ]
    },
    {
      "cell_type": "code",
      "source": [
        "import numpy as np"
      ],
      "metadata": {
        "id": "IIs8MO2Q65eq"
      },
      "execution_count": null,
      "outputs": []
    },
    {
      "cell_type": "code",
      "source": [
        "# Solving the linear systems\n",
        "a=np.array([[1,1],[1.5,4]])\n",
        "b=np.array([2200,5050])\n",
        "x=np.linalg.solve(a,b)\n",
        "print(x)"
      ],
      "metadata": {
        "id": "TE79hao3kk2a",
        "colab": {
          "base_uri": "https://localhost:8080/"
        },
        "outputId": "8fc65290-4101-4c46-d0dd-5b6a6a73d42d"
      },
      "execution_count": null,
      "outputs": [
        {
          "output_type": "stream",
          "name": "stdout",
          "text": [
            "[1500.  700.]\n"
          ]
        }
      ]
    },
    {
      "cell_type": "markdown",
      "source": [
        "**05-08-2025**"
      ],
      "metadata": {
        "id": "u3bXOH8c5CCm"
      }
    },
    {
      "cell_type": "code",
      "source": [],
      "metadata": {
        "id": "BBi0C2bZ5ISY"
      },
      "execution_count": null,
      "outputs": []
    }
  ],
  "metadata": {
    "colab": {
      "provenance": [],
      "authorship_tag": "ABX9TyM4YuJu5Y5blNb29gQup6kt",
      "include_colab_link": true
    },
    "kernelspec": {
      "display_name": "Python 3",
      "name": "python3"
    },
    "language_info": {
      "name": "python"
    }
  },
  "nbformat": 4,
  "nbformat_minor": 0
}